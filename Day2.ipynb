{
 "cells": [
  {
   "cell_type": "code",
   "execution_count": 1,
   "id": "e49a986b",
   "metadata": {},
   "outputs": [],
   "source": [
    "import numpy as np"
   ]
  },
  {
   "cell_type": "code",
   "execution_count": 64,
   "id": "bad74ce8",
   "metadata": {},
   "outputs": [
    {
     "name": "stdout",
     "output_type": "stream",
     "text": [
      "[[[12 25 36]\n",
      "  [74 85 62]\n",
      "  [52 64 41]]]\n"
     ]
    }
   ],
   "source": [
    "r=np.array([[[12,25,36],[74,85,62],[52,64,41]]])\n",
    "print(r)"
   ]
  },
  {
   "cell_type": "code",
   "execution_count": 68,
   "id": "b57d4fdb",
   "metadata": {},
   "outputs": [
    {
     "data": {
      "text/plain": [
       "array([[[12, 25, 36],\n",
       "        [52, 64, 41],\n",
       "        [74, 85, 62]]])"
      ]
     },
     "execution_count": 68,
     "metadata": {},
     "output_type": "execute_result"
    }
   ],
   "source": [
    "r.sort(axis=0)\n",
    "r"
   ]
  },
  {
   "cell_type": "code",
   "execution_count": 66,
   "id": "ad3eb13d",
   "metadata": {},
   "outputs": [
    {
     "data": {
      "text/plain": [
       "9"
      ]
     },
     "execution_count": 66,
     "metadata": {},
     "output_type": "execute_result"
    }
   ],
   "source": [
    "r.size"
   ]
  },
  {
   "cell_type": "code",
   "execution_count": 67,
   "id": "75316b12",
   "metadata": {},
   "outputs": [
    {
     "data": {
      "text/plain": [
       "3"
      ]
     },
     "execution_count": 67,
     "metadata": {},
     "output_type": "execute_result"
    }
   ],
   "source": [
    "r.ndim"
   ]
  },
  {
   "cell_type": "code",
   "execution_count": 15,
   "id": "c0c5c384",
   "metadata": {},
   "outputs": [
    {
     "data": {
      "text/plain": [
       "8"
      ]
     },
     "execution_count": 15,
     "metadata": {},
     "output_type": "execute_result"
    }
   ],
   "source": [
    "r.itemsize"
   ]
  },
  {
   "cell_type": "code",
   "execution_count": 16,
   "id": "85cbdfaf",
   "metadata": {},
   "outputs": [
    {
     "name": "stdout",
     "output_type": "stream",
     "text": [
      "[[0. 0. 0. 0.]\n",
      " [0. 0. 0. 0.]\n",
      " [0. 0. 0. 0.]\n",
      " [0. 0. 0. 0.]\n",
      " [0. 0. 0. 0.]]\n"
     ]
    }
   ],
   "source": [
    "p=np.zeros([5,4])\n",
    "print(p)"
   ]
  },
  {
   "cell_type": "code",
   "execution_count": 19,
   "id": "5d375b79",
   "metadata": {},
   "outputs": [
    {
     "name": "stdout",
     "output_type": "stream",
     "text": [
      "[[6 6]\n",
      " [6 6]\n",
      " [6 6]\n",
      " [6 6]\n",
      " [6 6]]\n"
     ]
    }
   ],
   "source": [
    "p=np.full((5,2),6)\n",
    "print(p)"
   ]
  },
  {
   "cell_type": "code",
   "execution_count": 21,
   "id": "cf9faa2b",
   "metadata": {},
   "outputs": [
    {
     "data": {
      "text/plain": [
       "array([[0.28174514, 0.27193959, 0.38855   , 0.10428405],\n",
       "       [0.84100318, 0.74177427, 0.97768718, 0.00662312],\n",
       "       [0.15578991, 0.50955969, 0.07426704, 0.5567594 ]])"
      ]
     },
     "execution_count": 21,
     "metadata": {},
     "output_type": "execute_result"
    }
   ],
   "source": [
    "np.random.rand(3,4)"
   ]
  },
  {
   "cell_type": "code",
   "execution_count": 22,
   "id": "b523de67",
   "metadata": {},
   "outputs": [
    {
     "data": {
      "text/plain": [
       "array([[1., 0., 0., 0., 0.],\n",
       "       [0., 1., 0., 0., 0.],\n",
       "       [0., 0., 1., 0., 0.],\n",
       "       [0., 0., 0., 1., 0.],\n",
       "       [0., 0., 0., 0., 1.]])"
      ]
     },
     "execution_count": 22,
     "metadata": {},
     "output_type": "execute_result"
    }
   ],
   "source": [
    "np.eye(5)"
   ]
  },
  {
   "cell_type": "code",
   "execution_count": 23,
   "id": "f9bf1ec2",
   "metadata": {},
   "outputs": [
    {
     "data": {
      "text/plain": [
       "array([[[12, 25, 36],\n",
       "        [62, 74, 85],\n",
       "        [41, 52, 64]],\n",
       "\n",
       "       [[52, 69, 71],\n",
       "        [67, 84, 95],\n",
       "        [13, 68, 74]]])"
      ]
     },
     "execution_count": 23,
     "metadata": {},
     "output_type": "execute_result"
    }
   ],
   "source": [
    "np.copy(r)"
   ]
  },
  {
   "cell_type": "code",
   "execution_count": 24,
   "id": "a0740707",
   "metadata": {},
   "outputs": [
    {
     "ename": "NameError",
     "evalue": "name 'view' is not defined",
     "output_type": "error",
     "traceback": [
      "\u001b[0;31m---------------------------------------------------------------------------\u001b[0m",
      "\u001b[0;31mNameError\u001b[0m                                 Traceback (most recent call last)",
      "Input \u001b[0;32mIn [24]\u001b[0m, in \u001b[0;36m<cell line: 1>\u001b[0;34m()\u001b[0m\n\u001b[0;32m----> 1\u001b[0m \u001b[43mview\u001b[49m(dtype)\n",
      "\u001b[0;31mNameError\u001b[0m: name 'view' is not defined"
     ]
    }
   ],
   "source": [
    "view(dtype)"
   ]
  },
  {
   "cell_type": "code",
   "execution_count": 38,
   "id": "d34a979b",
   "metadata": {},
   "outputs": [
    {
     "name": "stdout",
     "output_type": "stream",
     "text": [
      "[[[12 25 36]\n",
      "  [13 52 64]\n",
      "  [62 74 85]]\n",
      "\n",
      " [[41 68 71]\n",
      "  [52 69 74]\n",
      "  [67 84 95]]]\n"
     ]
    }
   ],
   "source": [
    "r.sort(axis=0)\n",
    "print(r)"
   ]
  },
  {
   "cell_type": "code",
   "execution_count": 37,
   "id": "a3ae6536",
   "metadata": {},
   "outputs": [
    {
     "name": "stdout",
     "output_type": "stream",
     "text": [
      "[[[12 25 36]\n",
      "  [13 52 64]\n",
      "  [62 74 85]]\n",
      "\n",
      " [[41 68 71]\n",
      "  [52 69 74]\n",
      "  [67 84 95]]]\n"
     ]
    }
   ],
   "source": [
    "r.sort(axis=1)\n",
    "print(r)"
   ]
  },
  {
   "cell_type": "code",
   "execution_count": 75,
   "id": "70a39a83",
   "metadata": {},
   "outputs": [
    {
     "name": "stdout",
     "output_type": "stream",
     "text": [
      "[12 25 36 52 64 41 74 85 62 87 65 48]\n"
     ]
    }
   ],
   "source": [
    "z=np.append(r,[87,65,48])\n",
    "print(z)\n"
   ]
  },
  {
   "cell_type": "code",
   "execution_count": 76,
   "id": "badb41b3",
   "metadata": {},
   "outputs": [
    {
     "data": {
      "text/plain": [
       "array([12, 25, 36, 52, 64, 41, 74, 85, 62, 87, 65, 48])"
      ]
     },
     "execution_count": 76,
     "metadata": {},
     "output_type": "execute_result"
    }
   ],
   "source": [
    "z\n"
   ]
  },
  {
   "cell_type": "code",
   "execution_count": 77,
   "id": "0fb407e2",
   "metadata": {},
   "outputs": [
    {
     "data": {
      "text/plain": [
       "array([12, 25, 36, 41, 48, 52, 62, 64, 65, 74, 85, 87])"
      ]
     },
     "execution_count": 77,
     "metadata": {},
     "output_type": "execute_result"
    }
   ],
   "source": [
    "z.sort()\n",
    "z\n"
   ]
  },
  {
   "cell_type": "code",
   "execution_count": 81,
   "id": "77ae1730",
   "metadata": {},
   "outputs": [
    {
     "data": {
      "text/plain": [
       "array([12, 25, 36, 41, 78, 61, 14, 48, 52, 62, 64, 65, 74, 85, 87])"
      ]
     },
     "execution_count": 81,
     "metadata": {},
     "output_type": "execute_result"
    }
   ],
   "source": [
    "k=np.insert(z,4,[78,61,14])\n",
    "k"
   ]
  },
  {
   "cell_type": "code",
   "execution_count": 86,
   "id": "5f65b184",
   "metadata": {},
   "outputs": [
    {
     "data": {
      "text/plain": [
       "array([12, 36, 41, 48, 52, 62, 64, 65, 74, 85, 87])"
      ]
     },
     "execution_count": 86,
     "metadata": {},
     "output_type": "execute_result"
    }
   ],
   "source": [
    "k=np.delete(z,1,axis=0)\n",
    "k"
   ]
  },
  {
   "cell_type": "code",
   "execution_count": 92,
   "id": "6754878c",
   "metadata": {},
   "outputs": [
    {
     "data": {
      "text/plain": [
       "(12,)"
      ]
     },
     "execution_count": 92,
     "metadata": {},
     "output_type": "execute_result"
    }
   ],
   "source": [
    "z.shape"
   ]
  },
  {
   "cell_type": "code",
   "execution_count": 93,
   "id": "aa7b8ff7",
   "metadata": {},
   "outputs": [
    {
     "data": {
      "text/plain": [
       "array([[12, 25, 36],\n",
       "       [41, 48, 52],\n",
       "       [62, 64, 65],\n",
       "       [74, 85, 87]])"
      ]
     },
     "execution_count": 93,
     "metadata": {},
     "output_type": "execute_result"
    }
   ],
   "source": [
    "z.reshape(4,3)"
   ]
  },
  {
   "cell_type": "code",
   "execution_count": null,
   "id": "efb7caf3",
   "metadata": {},
   "outputs": [],
   "source": []
  }
 ],
 "metadata": {
  "kernelspec": {
   "display_name": "Python 3 (ipykernel)",
   "language": "python",
   "name": "python3"
  },
  "language_info": {
   "codemirror_mode": {
    "name": "ipython",
    "version": 3
   },
   "file_extension": ".py",
   "mimetype": "text/x-python",
   "name": "python",
   "nbconvert_exporter": "python",
   "pygments_lexer": "ipython3",
   "version": "3.9.12"
  }
 },
 "nbformat": 4,
 "nbformat_minor": 5
}
